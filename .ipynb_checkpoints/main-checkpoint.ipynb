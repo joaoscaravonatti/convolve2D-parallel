{
 "cells": [
  {
   "cell_type": "code",
   "execution_count": 1,
   "id": "fd1f0450",
   "metadata": {},
   "outputs": [],
   "source": [
    "import cv2\n",
    "import numpy as np\n",
    "from PIL import Image\n",
    "import multiprocessing as mp"
   ]
  },
  {
   "cell_type": "code",
   "execution_count": 71,
   "id": "45626907",
   "metadata": {},
   "outputs": [],
   "source": [
    "def get_image(path = './cidnei.png'):\n",
    "    return cv2.imread(path, 0)"
   ]
  },
  {
   "cell_type": "code",
   "execution_count": 3,
   "id": "2c6d0c14",
   "metadata": {},
   "outputs": [],
   "source": [
    "def show_image(image):\n",
    "    img = Image.fromarray(image)\n",
    "    img.show()"
   ]
  },
  {
   "cell_type": "code",
   "execution_count": 41,
   "id": "03b2a79c",
   "metadata": {},
   "outputs": [],
   "source": [
    "def split_image(image, pieces):\n",
    "    strips = []\n",
    "    _, width = image.shape\n",
    "    strip_size = width // pieces\n",
    "    \n",
    "    current_strip = 0\n",
    "    last_strip = strip_size # 3\n",
    "\n",
    "    for i in range(pieces):\n",
    "        if i + 1 == pieces:\n",
    "            strips.append(image[:, current_strip:])\n",
    "        else:\n",
    "            strips.append(image[:, current_strip:last_strip])\n",
    "\n",
    "        current_strip = last_strip\n",
    "        last_strip += strip_size\n",
    "    \n",
    "    return strips"
   ]
  },
  {
   "cell_type": "code",
   "execution_count": 75,
   "id": "b1bee3ea",
   "metadata": {},
   "outputs": [],
   "source": [
    "def convolve2D(image, kernel, padding=0, strides=1):\n",
    "    kernel = np.flipud(np.fliplr(kernel))\n",
    "\n",
    "    x_kernel_shape, y_kernel_shape = kernel.shape\n",
    "    x_image_shape, y_image_shape = image.shape\n",
    "\n",
    "    x_output = int(((x_image_shape - x_kernel_shape + 2 * padding) / strides) + 1)\n",
    "    y_output = int(((y_image_shape - y_kernel_shape + 2 * padding) / strides) + 1)\n",
    "    output = np.zeros((x_output, y_output))\n",
    "\n",
    "    if padding != 0:\n",
    "        image_padded = np.zeros((x_image_shape + padding * 2, y_image_shape + padding * 2))\n",
    "        image_padded[int(padding):int(-1 * padding), int(padding):int(-1 * padding)] = image\n",
    "    else:\n",
    "        image_padded = image\n",
    "\n",
    "    for y in range(y_image_shape):\n",
    "        if y > y_image_shape - y_kernel_shape:\n",
    "            break\n",
    "        if y % strides == 0:\n",
    "            for x in range(x_image_shape):\n",
    "                if x > x_image_shape - x_kernel_shape:\n",
    "                    break\n",
    "                try:\n",
    "                    if x % strides == 0:\n",
    "                        output[x, y] = (kernel * image_padded[x: x + x_kernel_shape, y: y + y_kernel_shape]).sum()\n",
    "                except:\n",
    "                    break\n",
    "\n",
    "    return output"
   ]
  },
  {
   "cell_type": "code",
   "execution_count": 76,
   "id": "35bd4852",
   "metadata": {},
   "outputs": [],
   "source": [
    "image = get_image()\n",
    "edge = [[-1, -1, -1], [-1, 8, -1], [-1, -1, -1]]\n",
    "sharpen = [[0, -1, 0], [-1, 5, -1], [0, -1, 0]]\n",
    "kernel = np.array(edge)\n",
    "num_cores = mp.cpu_count()\n",
    "strips = split_image(image, num_cores)\n",
    "args = [(strip, kernel) for strip in strips]\n",
    "pool = mp.Pool(processes=num_cores)\n",
    "results = pool.starmap(convolve2D, args)\n",
    "show_image(np.concatenate(results, axis=1))"
   ]
  }
 ],
 "metadata": {
  "kernelspec": {
   "display_name": "Python 3 (ipykernel)",
   "language": "python",
   "name": "python3"
  },
  "language_info": {
   "codemirror_mode": {
    "name": "ipython",
    "version": 3
   },
   "file_extension": ".py",
   "mimetype": "text/x-python",
   "name": "python",
   "nbconvert_exporter": "python",
   "pygments_lexer": "ipython3",
   "version": "3.8.10"
  }
 },
 "nbformat": 4,
 "nbformat_minor": 5
}
